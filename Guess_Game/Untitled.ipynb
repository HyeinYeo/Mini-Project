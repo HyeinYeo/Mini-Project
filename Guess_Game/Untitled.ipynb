{
 "cells": [
  {
   "cell_type": "code",
   "execution_count": 8,
   "id": "6c5b07cd-3826-4c94-8a85-0a1f1a51a497",
   "metadata": {},
   "outputs": [
    {
     "name": "stdout",
     "output_type": "stream",
     "text": [
      "5\n",
      "4\n",
      "9\n",
      "1\n",
      "2\n",
      "3\n",
      "4\n",
      "6\n",
      "5\n",
      "7\n",
      "8\n",
      "g\n"
     ]
    }
   ],
   "source": [
    "!python HighLow.py"
   ]
  },
  {
   "cell_type": "code",
   "execution_count": 4,
   "id": "9ebafbf9-1219-4010-b4b0-b32320815f04",
   "metadata": {},
   "outputs": [
    {
     "name": "stdout",
     "output_type": "stream",
     "text": [
      "567\n",
      "567\n"
     ]
    },
    {
     "ename": "SystemExit",
     "evalue": "0",
     "output_type": "error",
     "traceback": [
      "An exception has occurred, use %tb to see the full traceback.\n",
      "\u001b[1;31mSystemExit\u001b[0m\u001b[1;31m:\u001b[0m 0\n"
     ]
    },
    {
     "name": "stderr",
     "output_type": "stream",
     "text": [
      "D:\\Program\\Anaconda\\lib\\site-packages\\IPython\\core\\interactiveshell.py:3377: UserWarning: To exit: use 'exit', 'quit', or Ctrl-D.\n",
      "  warn(\"To exit: use 'exit', 'quit', or Ctrl-D.\", stacklevel=1)\n"
     ]
    }
   ],
   "source": [
    "# -*- coding: utf-8 -*-\n",
    "\n",
    "# Form implementation generated from reading ui file 'GuessGame.ui'\n",
    "#\n",
    "# Created by: PyQt5 UI code generator 5.9.2\n",
    "#\n",
    "# WARNING! All changes made in this file will be lost!\n",
    "\n",
    "from PyQt5 import QtCore, QtGui, QtWidgets\n",
    "import random\n",
    "\n",
    "class Ui_MainWindow(object):\n",
    "    low_number = 1\n",
    "    high_number = 10\n",
    "    guess_left = 5\n",
    "    hidden_number = random.randint(low_number, high_number)\n",
    "    \n",
    "    \n",
    "    def setupUi(self, MainWindow):\n",
    "        MainWindow.setObjectName(\"MainWindow\")\n",
    "        MainWindow.resize(1348, 1095)\n",
    "        font = QtGui.QFont()\n",
    "        font.setFamily(\"Arial\")\n",
    "        font.setPointSize(14)\n",
    "        font.setBold(False)\n",
    "        font.setWeight(50)\n",
    "        MainWindow.setFont(font)\n",
    "        self.centralwidget = QtWidgets.QWidget(MainWindow)\n",
    "        self.centralwidget.setObjectName(\"centralwidget\")\n",
    "        self.round_label = QtWidgets.QLabel(self.centralwidget)\n",
    "        self.round_label.setGeometry(QtCore.QRect(280, 130, 161, 51))\n",
    "        self.round_label.setAlignment(QtCore.Qt.AlignCenter)\n",
    "        self.round_label.setObjectName(\"round_label\")\n",
    "        self.round_count_label = QtWidgets.QLabel(self.centralwidget)\n",
    "        self.round_count_label.setGeometry(QtCore.QRect(330, 230, 64, 51))\n",
    "        self.round_count_label.setAlignment(QtCore.Qt.AlignCenter)\n",
    "        self.round_count_label.setObjectName(\"round_count_label\")\n",
    "        self.highscore_label = QtWidgets.QLabel(self.centralwidget)\n",
    "        self.highscore_label.setGeometry(QtCore.QRect(790, 130, 251, 61))\n",
    "        self.highscore_label.setAlignment(QtCore.Qt.AlignCenter)\n",
    "        self.highscore_label.setObjectName(\"highscore_label\")\n",
    "        self.highscore_count_label = QtWidgets.QLabel(self.centralwidget)\n",
    "        self.highscore_count_label.setGeometry(QtCore.QRect(900, 230, 64, 51))\n",
    "        self.highscore_count_label.setAlignment(QtCore.Qt.AlignCenter)\n",
    "        self.highscore_count_label.setObjectName(\"highscore_count_label\")\n",
    "        self.entry_box = QtWidgets.QLineEdit(self.centralwidget)\n",
    "        self.entry_box.setGeometry(QtCore.QRect(410, 560, 511, 71))\n",
    "        self.entry_box.setObjectName(\"entry_box\")\n",
    "        self.guess_button = QtWidgets.QPushButton(self.centralwidget)\n",
    "        self.guess_button.setGeometry(QtCore.QRect(410, 640, 171, 41))\n",
    "        self.guess_button.setObjectName(\"guess_button\")\n",
    "        self.guess_info = QtWidgets.QLabel(self.centralwidget)\n",
    "        self.guess_info.setGeometry(QtCore.QRect(290, 440, 761, 111))\n",
    "        self.guess_info.setAlignment(QtCore.Qt.AlignCenter)\n",
    "        self.guess_info.setObjectName(\"guess_info\")\n",
    "        self.hint = QtWidgets.QLabel(self.centralwidget)\n",
    "        self.hint.setGeometry(QtCore.QRect(310, 720, 761, 111))\n",
    "        self.hint.setAlignment(QtCore.Qt.AlignCenter)\n",
    "        self.hint.setObjectName(\"hint\")\n",
    "        MainWindow.setCentralWidget(self.centralwidget)\n",
    "        self.menubar = QtWidgets.QMenuBar(MainWindow)\n",
    "        self.menubar.setGeometry(QtCore.QRect(0, 0, 1348, 48))\n",
    "        self.menubar.setObjectName(\"menubar\")\n",
    "        MainWindow.setMenuBar(self.menubar)\n",
    "        self.statusbar = QtWidgets.QStatusBar(MainWindow)\n",
    "        self.statusbar.setObjectName(\"statusbar\")\n",
    "        MainWindow.setStatusBar(self.statusbar)\n",
    "\n",
    "        self.retranslateUi(MainWindow)\n",
    "        QtCore.QMetaObject.connectSlotsByName(MainWindow)\n",
    "        \n",
    "        # 버튼 -> 동작(추측 숫자 입력받는 함수)과 연결하기(set up 때)\n",
    "        self.guess_button.clicked.connect(self.guess_number)\n",
    "        # 버튼 클릭 -> 엔트리박스에 있는 텍스트 guess 변수에 저장 -> 콘솔창에 출력\n",
    "        \n",
    "    def retranslateUi(self, MainWindow):\n",
    "        _translate = QtCore.QCoreApplication.translate\n",
    "        MainWindow.setWindowTitle(_translate(\"MainWindow\", \"MainWindow\"))\n",
    "        self.round_label.setText(_translate(\"MainWindow\", \"Round\"))\n",
    "        self.round_count_label.setText(_translate(\"MainWindow\", \"1\"))\n",
    "        self.highscore_label.setText(_translate(\"MainWindow\", \"High Score\"))\n",
    "        self.highscore_count_label.setText(_translate(\"MainWindow\", \"1\"))\n",
    "        self.guess_button.setText(_translate(\"MainWindow\", \"Guess\"))\n",
    "        # 남은 추측 개수 수정\n",
    "        self.guess_info.setText(_translate(\"MainWindow\", f\"Guess a number between {self.low_number} and {self.high_number}.\\n\"\n",
    "f\"{self.guess_left} Guesses Left\"))\n",
    "        # 힌트문자는 변경되어야 함\n",
    "        self.hint.setText(_translate(\"MainWindow\", \"\"))\n",
    "    \n",
    "    \n",
    "    # 추측 숫자 입력하는 함수\n",
    "    def guess_number(self):\n",
    "        guess = self.entry_box.text()\n",
    "        print(guess)\n",
    "\n",
    "if __name__ == \"__main__\":\n",
    "    import sys\n",
    "    app = QtWidgets.QApplication(sys.argv)\n",
    "    MainWindow = QtWidgets.QMainWindow()\n",
    "    ui = Ui_MainWindow()\n",
    "    ui.setupUi(MainWindow)\n",
    "    MainWindow.show()\n",
    "    sys.exit(app.exec_())\n",
    "\n"
   ]
  },
  {
   "cell_type": "code",
   "execution_count": null,
   "id": "485753b6-b4b1-4b6d-920c-42ecbfaa4262",
   "metadata": {},
   "outputs": [],
   "source": []
  }
 ],
 "metadata": {
  "kernelspec": {
   "display_name": "Python 3 (ipykernel)",
   "language": "python",
   "name": "python3"
  },
  "language_info": {
   "codemirror_mode": {
    "name": "ipython",
    "version": 3
   },
   "file_extension": ".py",
   "mimetype": "text/x-python",
   "name": "python",
   "nbconvert_exporter": "python",
   "pygments_lexer": "ipython3",
   "version": "3.9.12"
  }
 },
 "nbformat": 4,
 "nbformat_minor": 5
}
